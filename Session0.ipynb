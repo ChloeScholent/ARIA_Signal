{
 "cells": [
  {
   "cell_type": "markdown",
   "id": "f4afb8c8",
   "metadata": {},
   "source": [
    "# Session 0 : Installation of the packages\n",
    "\n",
    ">Intelligence Artificielle & Machine Learning pour la modélisation de séries temporelles et de signaux<br />\n",
    ">Master 1 Parcours IA ENS Paris Saclay<br />\n",
    ">Laurent Oudre (laurent.oudre@ens-paris-saclay.fr)"
   ]
  },
  {
   "cell_type": "markdown",
   "id": "5f02eabd",
   "metadata": {},
   "source": [
    "The notebooks associated to the course necessite the following packages:\n",
    "* numpy\n",
    "* matplotlib\n",
    "* scipy\n",
    "* statsmodels\n",
    "* sporco\n",
    "* sklearn\n",
    "* ruptures\n",
    "* time\n",
    "* loadmydata"
   ]
  },
  {
   "cell_type": "code",
   "execution_count": 1,
   "id": "4d3f99db",
   "metadata": {},
   "outputs": [],
   "source": [
    "# Load this to check if all packages are installed\n",
    "import numpy as np\n",
    "from matplotlib import pyplot as plt\n",
    "from scipy import signal\n",
    "from scipy import stats\n",
    "from statsmodels.tsa.ar_model import AutoReg\n",
    "from sporco.admm import bpdn\n",
    "from statsmodels.regression.linear_model import yule_walker\n",
    "from sklearn.neighbors import KNeighborsClassifier\n",
    "from sklearn.model_selection import cross_val_score\n",
    "from sklearn import linear_model\n",
    "import time\n",
    "import ruptures as rpt\n",
    "from loadmydata.load_uea_ucr import load_uea_ucr_data"
   ]
  },
  {
   "cell_type": "code",
   "execution_count": null,
   "id": "e9ccf7ce",
   "metadata": {},
   "outputs": [],
   "source": []
  }
 ],
 "metadata": {
  "kernelspec": {
   "display_name": "Python 3",
   "language": "python",
   "name": "python3"
  },
  "language_info": {
   "codemirror_mode": {
    "name": "ipython",
    "version": 3
   },
   "file_extension": ".py",
   "mimetype": "text/x-python",
   "name": "python",
   "nbconvert_exporter": "python",
   "pygments_lexer": "ipython3",
   "version": "3.8.8"
  }
 },
 "nbformat": 4,
 "nbformat_minor": 5
}
